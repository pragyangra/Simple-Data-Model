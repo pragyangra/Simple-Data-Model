{
 "cells": [
  {
   "cell_type": "markdown",
   "id": "fb26c182",
   "metadata": {},
   "source": [
    "## Creating a table with PostgreSQL"
   ]
  },
  {
   "cell_type": "code",
   "execution_count": 2,
   "id": "316895fa",
   "metadata": {},
   "outputs": [
    {
     "name": "stdout",
     "output_type": "stream",
     "text": [
      "Collecting psycopg2\n",
      "  Downloading psycopg2-2.9.6-cp39-cp39-win_amd64.whl (1.2 MB)\n",
      "     ---------------------------------------- 1.2/1.2 MB 3.4 MB/s eta 0:00:00\n",
      "Installing collected packages: psycopg2\n",
      "Successfully installed psycopg2-2.9.6\n"
     ]
    }
   ],
   "source": [
    "!pip install psycopg2"
   ]
  },
  {
   "cell_type": "code",
   "execution_count": 6,
   "id": "f6dd1d88",
   "metadata": {},
   "outputs": [],
   "source": [
    "import psycopg2\n",
    "#psycopg2 is used to connect to database and run queries.\n",
    "#The databases we will work on will be located somewhere and we’ll need to connect to them."
   ]
  },
  {
   "cell_type": "markdown",
   "id": "7862b735",
   "metadata": {},
   "source": [
    "### Connecting to the database"
   ]
  },
  {
   "cell_type": "code",
   "execution_count": 4,
   "id": "a1286459",
   "metadata": {},
   "outputs": [],
   "source": [
    "try:\n",
    "    conn = psycopg2.connect(\"host=127.0.0.1 dbname=postgres user=postgres password=Pluto135*\")\n",
    "except psycopg2.Error as e:\n",
    "    print(\"Could not make a connection\")\n",
    "    print(e)"
   ]
  },
  {
   "cell_type": "markdown",
   "id": "17a91461",
   "metadata": {},
   "source": [
    "### Create a cursor to be used to execute queries\n",
    "Allows Python code to execute PostgreSQL command in a database session."
   ]
  },
  {
   "cell_type": "code",
   "execution_count": 5,
   "id": "42ca6648",
   "metadata": {},
   "outputs": [],
   "source": [
    "try:\n",
    "    curr = conn.cursor()\n",
    "except psycopg2.Error as e:\n",
    "    print(\"Could not make a connection\")\n",
    "    print(e)"
   ]
  },
  {
   "cell_type": "markdown",
   "id": "3ddf5c7b",
   "metadata": {},
   "source": [
    "### Set automatic commitment to be True \n",
    "When you run a query you need to commit it afterwards in order for it to make an affect on on the database"
   ]
  },
  {
   "cell_type": "code",
   "execution_count": 7,
   "id": "e7ee1a40",
   "metadata": {},
   "outputs": [],
   "source": [
    "conn.set_session(autocommit=True)\n",
    "#We won't have to call it again and again for each query"
   ]
  },
  {
   "cell_type": "markdown",
   "id": "077d371a",
   "metadata": {},
   "source": [
    "Create your database using a query"
   ]
  },
  {
   "cell_type": "code",
   "execution_count": 9,
   "id": "bd49f9b6",
   "metadata": {},
   "outputs": [],
   "source": [
    "try:\n",
    "    curr.execute(\"create database firstdb\")\n",
    "except psycopg2.Error as e:\n",
    "    print(e)\n",
    "    \n",
    "# use the command \\l in postgres shell to look up the database created"
   ]
  },
  {
   "cell_type": "markdown",
   "id": "a28199ca",
   "metadata": {},
   "source": [
    "### Now remove the connection to the default database and create a new connection to firstdb"
   ]
  },
  {
   "cell_type": "code",
   "execution_count": 12,
   "id": "c72d242f",
   "metadata": {},
   "outputs": [],
   "source": [
    "try:\n",
    "    conn.close()\n",
    "except psycopg2.Error as e:\n",
    "    print(e)\n",
    "    \n",
    "try:\n",
    "    conn = psycopg2.connect(\"host=127.0.0.1 dbname=firstdb user=postgres password=Pluto135*\")\n",
    "except psycopg2.Error as e:\n",
    "    print(\"Could not make a connection\")\n",
    "    print(e)\n",
    "    \n",
    "try:\n",
    "    curr = conn.cursor()\n",
    "except psycopg2.Error as e:\n",
    "    print(\"Could not make a connection\")\n",
    "    print(e)\n",
    "    \n",
    "conn.set_session(autocommit=True)"
   ]
  },
  {
   "cell_type": "markdown",
   "id": "36c44f0c",
   "metadata": {},
   "source": [
    "### Create table and insert the data"
   ]
  },
  {
   "cell_type": "code",
   "execution_count": 13,
   "id": "2291cf4c",
   "metadata": {},
   "outputs": [],
   "source": [
    "try:\n",
    "    curr.execute(\"CREATE TABLE IF NOT EXISTS Students (student_id int, name varchar, age int,\\\n",
    "    gender varchar, subject varchar, marks int);\")\n",
    "except psycopg2.Error as e:\n",
    "    print(\"Could not make a connection\")\n",
    "    print(e)"
   ]
  },
  {
   "cell_type": "code",
   "execution_count": 16,
   "id": "db373ff4",
   "metadata": {},
   "outputs": [],
   "source": [
    "try:\n",
    "    curr.execute(\"INSERT INTO Students (student_id, name, age, gender, subject, marks) \\\n",
    "                  VALUES (%s, %s, %s, %s, %s, %s)\",\n",
    "            (1, \"Max\", 23, \"M\", \"C#\", 95))\n",
    "except psycopg2.Error as e:\n",
    "    print(\"Could not make a connection\")\n",
    "    print(e)\n",
    "    \n",
    "try:\n",
    "    curr.execute(\"INSERT INTO Students (student_id, name, age, gender, subject, marks) \\\n",
    "                VALUES (%s, %s, %s, %s, %s, %s)\",\n",
    "            (2, \"Sam\", 22, \"M\", \"React\", 90))\n",
    "except psycopg2.Error as e:\n",
    "    print(\"Could not make a connection\")\n",
    "    print(e)"
   ]
  },
  {
   "cell_type": "code",
   "execution_count": 17,
   "id": "658b89ed",
   "metadata": {},
   "outputs": [
    {
     "name": "stdout",
     "output_type": "stream",
     "text": [
      "(1, 'Max', 23, 'M', 'C#', 95)\n",
      "(2, 'Sam', 22, 'M', 'React', 90)\n"
     ]
    }
   ],
   "source": [
    "try:\n",
    "    curr.execute(\"SELECT * FROM Students;\")\n",
    "except psycopg2.Error as e:\n",
    "    print(\"Could not make a connection\")\n",
    "    print(e)\n",
    "    \n",
    "row = curr.fetchone()\n",
    "while row:\n",
    "    print(row)\n",
    "    row = curr.fetchone()"
   ]
  },
  {
   "cell_type": "markdown",
   "id": "015d93aa",
   "metadata": {},
   "source": [
    "### Close your cursor and connection"
   ]
  },
  {
   "cell_type": "code",
   "execution_count": 18,
   "id": "4dad5610",
   "metadata": {},
   "outputs": [],
   "source": [
    "curr.close()\n",
    "conn.close()"
   ]
  },
  {
   "cell_type": "code",
   "execution_count": null,
   "id": "3f5a03c7",
   "metadata": {},
   "outputs": [],
   "source": []
  }
 ],
 "metadata": {
  "kernelspec": {
   "display_name": "Python 3",
   "language": "python",
   "name": "python3"
  },
  "language_info": {
   "codemirror_mode": {
    "name": "ipython",
    "version": 3
   },
   "file_extension": ".py",
   "mimetype": "text/x-python",
   "name": "python",
   "nbconvert_exporter": "python",
   "pygments_lexer": "ipython3",
   "version": "3.9.12"
  }
 },
 "nbformat": 4,
 "nbformat_minor": 5
}
